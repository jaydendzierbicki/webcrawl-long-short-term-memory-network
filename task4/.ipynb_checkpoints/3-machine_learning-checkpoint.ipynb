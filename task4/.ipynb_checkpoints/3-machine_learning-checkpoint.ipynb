{
 "cells": [
  {
   "cell_type": "markdown",
   "id": "1e626af8",
   "metadata": {},
   "source": [
    "# 3-Machine Learning\n",
    "Date created: 20/04/23  \n",
    "Author: Jayden Dzierbicki  \n",
    "Last updated: 24/04/23\n",
    "\n",
    "The purpose of this notebook is to undertake the following \n",
    "- Import data from mySQL\n",
    "- Undertake LTSM development"
   ]
  },
  {
   "cell_type": "code",
   "execution_count": 1,
   "id": "ee56c3ca",
   "metadata": {},
   "outputs": [],
   "source": [
    "# Import necessary libraries and modules\n",
    "import getpass\n",
    "import numpy as np\n",
    "import pandas as pd\n",
    "import matplotlib.pyplot as plt\n",
    "from sqlalchemy import create_engine\n",
    "from sklearn.model_selection import train_test_split, TimeSeriesSplit, RandomizedSearchCV\n",
    "from sklearn.preprocessing import MinMaxScaler\n",
    "from sklearn.metrics import mean_squared_error, mean_absolute_error\n",
    "from keras.models import Sequential\n",
    "from keras.layers import Dense, LSTM, Dropout\n",
    "from keras.wrappers.scikit_learn import KerasRegressor\n",
    "from keras.optimizers import Adam\n",
    "from keras.callbacks import EarlyStopping\n",
    "from keras.regularizers import l1, l2, l1_l2\n",
    "from keras.callbacks import ReduceLROnPlateau, EarlyStopping, ModelCheckpoint\n",
    "import random\n",
    "import tensorflow as tf\n",
    "from tensorflow.keras.layers import LSTM\n",
    "from tensorflow.keras.models import Sequential\n",
    "from tensorflow.keras.layers import Dropout, Dense\n",
    "from tensorflow.keras.optimizers import Adam\n",
    "from tensorflow.keras.callbacks import EarlyStopping\n",
    "from tensorflow.keras.wrappers.scikit_learn import KerasRegressor\n",
    "\n",
    "\n",
    "# Function to load data into mySQL\n",
    "def extract_data_mySQL(database_name, table_name):\n",
    "    user = 'root'\n",
    "\n",
    "    # Prompt the user for a password\n",
    "    password = getpass.getpass(\"Enter your MySQL password: \")\n",
    "    host = 'localhost'\n",
    "    port = 3306\n",
    "    database = database_name\n",
    "    engine = create_engine(f\"mysql+pymysql://{user}:{password}@{host}:{port}/{database}\")\n",
    "\n",
    "    # Write the DataFrame to a SQL table\n",
    "    table_name =  table_name\n",
    "    query = f\"SELECT * FROM {table_name}\"\n",
    "    \n",
    "    # Read query to dataframe\n",
    "    df = pd.read_sql(query, engine)\n",
    "    return(df)\n",
    "\n",
    "    # Close the connection\n",
    "    engine.dispose()\n"
   ]
  },
  {
   "cell_type": "code",
   "execution_count": 2,
   "id": "3df68928",
   "metadata": {},
   "outputs": [
    {
     "name": "stdout",
     "output_type": "stream",
     "text": [
      "Enter your MySQL password: ········\n"
     ]
    }
   ],
   "source": [
    "data = extract_data_mySQL('MA5851_A3', 'ltsm_data_frame')\n",
    "data.set_index('date', inplace=True) # Index date\n",
    "\n",
    "# Sort the data by date\n",
    "data.sort_index(inplace=True)"
   ]
  },
  {
   "cell_type": "markdown",
   "id": "d80ec7f1",
   "metadata": {},
   "source": [
    "### Produce LTSM Model\n",
    "- Extract X and Y\n",
    "- Split into test and training at 20/80 respectivly, with new data being test and old being train\n",
    "- Scale data to avoid data leakage after split\n",
    "- Reshape data for LTSM\n",
    "- Create model\n",
    "- Define hyperparatmers to search\n",
    "- Evulate model\n",
    "- Print out model and metrics\n",
    "\n"
   ]
  },
  {
   "cell_type": "code",
   "execution_count": 4,
   "id": "0a172d63",
   "metadata": {},
   "outputs": [
    {
     "name": "stderr",
     "output_type": "stream",
     "text": [
      "C:\\Users\\jayde\\AppData\\Local\\Temp/ipykernel_37268/1753356454.py:48: DeprecationWarning: KerasRegressor is deprecated, use Sci-Keras (https://github.com/adriangb/scikeras) instead. See https://www.adriangb.com/scikeras/stable/migration.html for help migrating.\n",
      "  model = KerasRegressor(build_fn=create_model, verbose=1)\n"
     ]
    },
    {
     "name": "stdout",
     "output_type": "stream",
     "text": [
      "Fitting 3 folds for each of 48 candidates, totalling 144 fits\n",
      "973/973 [==============================] - 5s 2ms/step - loss: 0.0252\n",
      "Best hyperparameters: {'neurons': 25, 'learning_rate': 0.001, 'layers': 3, 'dropout_rate': 0.25, 'activation': 'tanh'}\n",
      "Epoch 1/1000\n",
      "973/973 [==============================] - 6s 4ms/step - loss: 0.0276 - val_loss: 0.0012\n",
      "Epoch 2/1000\n",
      "973/973 [==============================] - 3s 3ms/step - loss: 0.0124 - val_loss: 0.0018\n",
      "Epoch 3/1000\n",
      "973/973 [==============================] - 3s 3ms/step - loss: 0.0117 - val_loss: 0.0018\n",
      "Epoch 4/1000\n",
      "973/973 [==============================] - 3s 3ms/step - loss: 0.0114 - val_loss: 0.0016\n",
      "Epoch 5/1000\n",
      "973/973 [==============================] - 3s 3ms/step - loss: 0.0113 - val_loss: 0.0011\n",
      "Epoch 6/1000\n",
      "973/973 [==============================] - 3s 3ms/step - loss: 0.0108 - val_loss: 0.0026\n",
      "Epoch 7/1000\n",
      "973/973 [==============================] - 3s 3ms/step - loss: 0.0108 - val_loss: 0.0013\n",
      "Epoch 8/1000\n",
      "973/973 [==============================] - 3s 3ms/step - loss: 0.0108 - val_loss: 0.0060\n",
      "Epoch 9/1000\n",
      "973/973 [==============================] - 3s 3ms/step - loss: 0.0105 - val_loss: 0.0026\n",
      "Epoch 10/1000\n",
      "973/973 [==============================] - 3s 3ms/step - loss: 0.0104 - val_loss: 0.0020\n",
      "Epoch 11/1000\n",
      "973/973 [==============================] - 3s 3ms/step - loss: 0.0104 - val_loss: 0.0020\n",
      "Epoch 12/1000\n",
      "973/973 [==============================] - 3s 3ms/step - loss: 0.0103 - val_loss: 0.0021\n",
      "Epoch 13/1000\n",
      "973/973 [==============================] - 3s 3ms/step - loss: 0.0102 - val_loss: 0.0031\n",
      "Epoch 14/1000\n",
      "973/973 [==============================] - 3s 3ms/step - loss: 0.0099 - val_loss: 0.0035\n",
      "Epoch 15/1000\n",
      "973/973 [==============================] - 3s 3ms/step - loss: 0.0098 - val_loss: 0.0012\n",
      "Final training loss: 0.009767006151378155\n",
      "Final validation loss: 0.0011662149336189032\n"
     ]
    },
    {
     "data": {
      "image/png": "[encoded data removed]",
      "text/plain": [
       "<Figure size 432x288 with 1 Axes>"
      ]
     },
     "metadata": {
      "needs_background": "light"
     },
     "output_type": "display_data"
    },
    {
     "name": "stdout",
     "output_type": "stream",
     "text": [
      "244/244 [==============================] - 1s 1ms/step\n",
      "Mean Absolute Error (LSTM Model): 0.04741014845035463\n",
      "Mean Absolute Error (Naive Model): 0.001629197234406353\n",
      "Root Mean Squared Error (LSTM Model): 0.061197518106531124\n",
      "Root Mean Squared Error (Naive Model): 0.009283449170228244\n"
     ]
    },
    {
     "data": {
      "image/png": "[encoded data removed]",
      "text/plain": [
       "<Figure size 864x432 with 1 Axes>"
      ]
     },
     "metadata": {
      "needs_background": "light"
     },
     "output_type": "display_data"
    }
   ],
   "source": [
    "# Set seeds for reproducibility\n",
    "np.random.seed(42)\n",
    "random.seed(42)\n",
    "tf.random.set_seed(42)\n",
    "\n",
    "# Separate the features and target variable\n",
    "X = data.drop(columns=['close'])\n",
    "y = data['close']\n",
    "\n",
    "# Split the data into training and testing sets\n",
    "split_index = int(len(data) * 0.80)\n",
    "X_train, X_test = X[:split_index], X[split_index:]\n",
    "y_train, y_test = y[:split_index], y[split_index:]\n",
    "\n",
    "# Scale the features between 0 and 1 using MinMaxScaler\n",
    "scaler = MinMaxScaler()\n",
    "X_train_scaled = scaler.fit_transform(X_train)\n",
    "X_test_scaled = scaler.transform(X_test)\n",
    "\n",
    "# Scale the target variable between 0 and 1 using MinMaxScaler\n",
    "y_scaler = MinMaxScaler()\n",
    "y_train_scaled = y_scaler.fit_transform(y_train.values.reshape(-1, 1))\n",
    "y_test_scaled = y_scaler.transform(y_test.values.reshape(-1, 1))\n",
    "\n",
    "# Reshape the input data\n",
    "X_train_reshaped = X_train_scaled.reshape(-1, 1, X_train_scaled.shape[1])\n",
    "X_test_reshaped = X_test_scaled.reshape(-1, 1, X_test_scaled.shape[1])\n",
    "\n",
    "def create_model(layers=2, neurons=50, dropout_rate=0.2, learning_rate=0.001, activation='relu'):\n",
    "    model = Sequential()\n",
    "    model.add(LSTM(neurons, input_shape=(X_train_reshaped.shape[1], X_train_reshaped.shape[2]), \n",
    "                   activation=activation,\n",
    "                   return_sequences=True if layers > 1 else False))\n",
    "    model.add(Dropout(dropout_rate))\n",
    "\n",
    "    for i in range(1, layers - 1):\n",
    "        model.add(LSTM(neurons, activation=activation,\n",
    "                       return_sequences=True if i < layers - 2 else False))\n",
    "        model.add(Dropout(dropout_rate))\n",
    "\n",
    "    model.add(Dense(1, activation=activation))\n",
    "    optimizer = Adam(learning_rate=learning_rate)\n",
    "    model.compile(loss='mean_squared_error', optimizer=optimizer)\n",
    "    return model\n",
    "\n",
    "\n",
    "# Perform grid search to select the best hyperparameters\n",
    "model = KerasRegressor(build_fn=create_model, verbose=1)\n",
    "\n",
    "param_grid = {\n",
    "    'layers': [2, 3, 4, 5],\n",
    "    'neurons': [15, 25, 50, 85, 100, 150, 200, 225, 250, 270, 285, 290, 293, 294, 295, 296, 297, 300, 325, 350, 385, 400],\n",
    "    'dropout_rate': [0.2, 0.25, 0.3, 0.35, 0.4, 0.45, 0.5, 0.55],\n",
    "    'learning_rate': [0.001, 0.01, 0.1],\n",
    "    'activation': ['relu', 'sigmoid', 'tanh']\n",
    "}\n",
    "\n",
    "tscv = TimeSeriesSplit(n_splits=3)\n",
    "random_search = RandomizedSearchCV(estimator=model, param_distributions=param_grid, n_iter=48,\n",
    "                                   cv=tscv, scoring='neg_mean_squared_error', verbose=1,\n",
    "                                   random_state=42, n_jobs=-1)\n",
    "\n",
    "random_search_result = random_search.fit(X_train_reshaped, y_train_scaled)\n",
    "\n",
    "# Train and evaluate the model using the best hyperparameters with early stopping\n",
    "best_model = random_search_result.best_estimator_\n",
    "print(\"Best hyperparameters:\", random_search_result.best_params_)\n",
    "early_stopping = EarlyStopping(patience=10, restore_best_weights=True)\n",
    "history = best_model.fit(X_train_reshaped, y_train_scaled, validation_data=(X_test_reshaped, y_test_scaled), epochs=1000, batch_size=32, verbose=1, callbacks=[early_stopping])\n",
    "\n",
    "# Print the training and validation losses\n",
    "print(\"Final training loss:\", history.history['loss'][-1])\n",
    "print(\"Final validation loss:\", history.history['val_loss'][-1])\n",
    "\n",
    "# Plot the training and validation losses\n",
    "plt.plot(history.history['loss'])\n",
    "plt.plot(history.history['val_loss'])\n",
    "plt.title('Model Loss')\n",
    "plt.ylabel('Loss')\n",
    "plt.xlabel('Epoch')\n",
    "plt.legend(['Train', 'Validation'], loc='upper left')\n",
    "plt.show()\n",
    "\n",
    "# Make predictions on the test data\n",
    "y_pred_scaled = best_model.predict(X_test_reshaped)\n",
    "y_pred = y_scaler.inverse_transform(y_pred_scaled.reshape(-1, 1))\n",
    "\n",
    "# Compute the mean absolute error\n",
    "mae = mean_absolute_error(y_test, y_pred)\n",
    "print('Mean Absolute Error (LSTM Model):', mae)\n",
    "\n",
    "# Naive Model (Persistence Model)\n",
    "y_pred_naive = y_test.shift(1).dropna()\n",
    "y_test_naive = y_test[1:]\n",
    "mae_naive = mean_absolute_error(y_test_naive, y_pred_naive)\n",
    "print('Mean Absolute Error (Naive Model):', mae_naive)\n",
    "\n",
    "# Compute the RMSE for the LSTM model and Naive model\n",
    "rmse_lstm = np.sqrt(mean_squared_error(y_test, y_pred))\n",
    "print('Root Mean Squared Error (LSTM Model):', rmse_lstm)\n",
    "\n",
    "rmse_naive = np.sqrt(mean_squared_error(y_test_naive, y_pred_naive))\n",
    "print('Root Mean Squared Error (Naive Model):', rmse_naive)\n",
    "\n",
    "date_index = data.index[split_index:]\n",
    "# Plot the true values, LSTM predictions, and naive model predictions\n",
    "plt.figure(figsize=(12, 6))\n",
    "plt.plot(date_index, y_test, label='True Values')\n",
    "plt.plot(date_index, y_pred, label='LSTM Predicted Values')\n",
    "plt.plot(date_index[1:], y_pred_naive, label='Naive Model Predicted Values', linestyle='--')\n",
    "plt.xlabel('Date')\n",
    "plt.ylabel('Close Price')\n",
    "plt.legend()\n",
    "plt.show()\n",
    "\n"
   ]
  },
  {
   "cell_type": "code",
   "execution_count": null,
   "id": "c4b3b8c8",
   "metadata": {},
   "outputs": [],
   "source": []
  },
  {
   "cell_type": "code",
   "execution_count": null,
   "id": "7754ae44",
   "metadata": {},
   "outputs": [],
   "source": []
  },
  {
   "cell_type": "code",
   "execution_count": null,
   "id": "6dc98ada",
   "metadata": {},
   "outputs": [],
   "source": []
  },
  {
   "cell_type": "code",
   "execution_count": null,
   "id": "20fbfc82",
   "metadata": {},
   "outputs": [],
   "source": []
  },
  {
   "cell_type": "code",
   "execution_count": null,
   "id": "b03bfebb",
   "metadata": {},
   "outputs": [],
   "source": []
  },
  {
   "cell_type": "code",
   "execution_count": null,
   "id": "4ffbcb0e",
   "metadata": {},
   "outputs": [],
   "source": []
  },
  {
   "cell_type": "code",
   "execution_count": null,
   "id": "477e011d",
   "metadata": {},
   "outputs": [],
   "source": []
  },
  {
   "cell_type": "code",
   "execution_count": null,
   "id": "4d570f1f",
   "metadata": {},
   "outputs": [],
   "source": []
  },
  {
   "cell_type": "code",
   "execution_count": null,
   "id": "f4837df6",
   "metadata": {},
   "outputs": [],
   "source": []
  },
  {
   "cell_type": "code",
   "execution_count": null,
   "id": "7edc844f",
   "metadata": {},
   "outputs": [],
   "source": []
  },
  {
   "cell_type": "code",
   "execution_count": null,
   "id": "0789f613",
   "metadata": {},
   "outputs": [],
   "source": []
  },
  {
   "cell_type": "code",
   "execution_count": null,
   "id": "d66f0918",
   "metadata": {},
   "outputs": [],
   "source": []
  },
  {
   "cell_type": "code",
   "execution_count": null,
   "id": "c6d8b608",
   "metadata": {},
   "outputs": [],
   "source": []
  },
  {
   "cell_type": "code",
   "execution_count": null,
   "id": "f1d871a9",
   "metadata": {},
   "outputs": [],
   "source": []
  },
  {
   "cell_type": "code",
   "execution_count": null,
   "id": "847bd297",
   "metadata": {},
   "outputs": [],
   "source": []
  },
  {
   "cell_type": "code",
   "execution_count": null,
   "id": "20c481a1",
   "metadata": {},
   "outputs": [],
   "source": []
  },
  {
   "cell_type": "code",
   "execution_count": null,
   "id": "4405db1f",
   "metadata": {},
   "outputs": [],
   "source": []
  },
  {
   "cell_type": "code",
   "execution_count": null,
   "id": "10926d19",
   "metadata": {},
   "outputs": [],
   "source": [
    "\n",
    "                                                                        \n",
    "                                                                            \n"
   ]
  }
 ],
 "metadata": {
  "kernelspec": {
   "display_name": "Python 3 (ipykernel)",
   "language": "python",
   "name": "python3"
  },
  "language_info": {
   "codemirror_mode": {
    "name": "ipython",
    "version": 3
   },
   "file_extension": ".py",
   "mimetype": "text/x-python",
   "name": "python",
   "nbconvert_exporter": "python",
   "pygments_lexer": "ipython3",
   "version": "3.9.7"
  }
 },
 "nbformat": 4,
 "nbformat_minor": 5
}
