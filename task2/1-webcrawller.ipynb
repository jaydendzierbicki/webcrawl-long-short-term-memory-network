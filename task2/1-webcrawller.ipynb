{
 "cells": [
  {
   "cell_type": "markdown",
   "id": "267a3334",
   "metadata": {},
   "source": [
    "# 1-Webcrawller Information\n",
    "Date created: 13-04-2023  \n",
    "Created by: Jayden Dzierbicki  \n",
    "Last updated: 13-04-2023  \n",
    "\n",
    "The purpose of this script is to obtain data associated with XRP historic price, and XRP forum posts. We do this by scrapping/crawling the following websites:\n",
    "- https://finance.yahoo.com/quote/XRP-AUD/history?p=XRP-AUD Obtain XRP price in AUD\n",
    "- https://www.cryptocompare.com/coins/xrp/forum Obtain forum posts for XRP\n",
    "\n",
    "All data obtained will be stored in mySQL, with a CSV backup created as well"
   ]
  },
  {
   "cell_type": "code",
   "execution_count": null,
   "id": "781cb8b9",
   "metadata": {},
   "outputs": [],
   "source": [
    "#Requirments to work\n",
    "import time\n",
    "from datetime import datetime, timedelta\n",
    "from bs4 import BeautifulSoup\n",
    "import pandas as pd\n",
    "import dateparser\n",
    "from selenium import webdriver\n",
    "from selenium.webdriver.common.keys import Keys\n",
    "from selenium.webdriver.chrome.options import Options\n",
    "from tqdm import tqdm\n",
    "from datetime import date \n",
    "\n"
   ]
  },
  {
   "cell_type": "markdown",
   "id": "a9c1e653",
   "metadata": {},
   "source": [
    "## cryptocompare.com crawler\n",
    "- Step 1: Crawl and save CSV backup\n",
    "- Step 2: Store data in mySQL"
   ]
  },
  {
   "cell_type": "code",
   "execution_count": null,
   "id": "0767cbdb",
   "metadata": {},
   "outputs": [],
   "source": [
    "# Step 1:\n",
    "scroll_duration = timedelta(hours=0.25)  # Set the duration for scrolling\n",
    "\n",
    "# Configure Chrome options for headless mode\n",
    "chrome_options = Options()\n",
    "chrome_options.add_argument(\"--headless\")  # More efficient RAM usage\n",
    "\n",
    "# Replace with the path to your ChromeDriver\n",
    "driver = webdriver.Chrome(executable_path='C:/webdrivers/chromedriver', options=chrome_options)\n",
    "\n",
    "url = f\"https://www.cryptocompare.com/coins/xrp/forum\"\n",
    "driver.get(url)\n",
    "\n",
    "# Calculate the number of iterations for the progress bar\n",
    "scroll_interval = 3  # seconds based on sleep time\n",
    "total_iterations = int(scroll_duration.total_seconds() // scroll_interval)\n",
    "\n",
    "# Initialize the progress bar\n",
    "progress_bar = tqdm(range(total_iterations), desc=\"Scraping posts\")\n",
    "\n",
    "start_time = datetime.now()\n",
    "post_data2 = []\n",
    "prev_post_count = 0\n",
    "iteration = 0\n",
    "while iteration < total_iterations:\n",
    "    driver.execute_script(\"window.scrollTo(0, document.body.scrollHeight);\")\n",
    "    time.sleep(scroll_interval)\n",
    "\n",
    "    html_content = driver.page_source\n",
    "    soup = BeautifulSoup(html_content, \"html.parser\")\n",
    "    posts = soup.find_all(\"div\", {\"class\": \"post-content\"})\n",
    "\n",
    "    if len(posts) > prev_post_count:  # Check if new posts are loaded\n",
    "        for post in posts[prev_post_count:]:\n",
    "            comment_element = post.find(\"div\", {\"class\": \"content-body\"})\n",
    "            date_element = post.find(\"div\", {\"class\": \"item-ago ng-binding\"})\n",
    "            if comment_element and date_element:\n",
    "                date_str = date_element['title']\n",
    "                parsed_date = dateparser.parse(date_str, settings={\"RELATIVE_BASE\": datetime.now()})\n",
    "                comment = comment_element.text.replace('\\n', '').strip()\n",
    "                post_data2.append({\"comment\": comment, \"date\": parsed_date})\n",
    "\n",
    "        prev_post_count = len(posts)\n",
    "\n",
    "    iteration += 1\n",
    "    progress_bar.update(1)  # Update the progress bar\n",
    "\n",
    "driver.quit()\n",
    "progress_bar.close()  # Close the progress bar\n",
    "\n",
    "#df2 = pd.DataFrame(post_data2)\n",
    "\n",
    "\n",
    "# Save DataFrame as CSV file - backup for SQL\n",
    "#today_date = date.today()\n",
    "#df2.to_csv(f'cryptocompare_{today_date}.csv', index=False)\n",
    "#df2"
   ]
  },
  {
   "cell_type": "code",
   "execution_count": null,
   "id": "bfe381e5",
   "metadata": {},
   "outputs": [],
   "source": [
    "# Step 2\n",
    "# Add an ID column to the DataFrame\n",
    "df['id'] = df.index + 1\n",
    "\n",
    "# Create the connection to the MySQL database using sqlalchemy\n",
    "user = 'root'\n",
    "\n",
    "# Prompt the user for a password\n",
    "password = getpass(\"Enter your MySQL password: \")\n",
    "host = 'localhost'\n",
    "port = 3306\n",
    "database = 'MA5851_A3'\n",
    "\n",
    "engine = create_engine(f\"mysql+pymysql://{user}:{password}@{host}:{port}/{database}\")\n",
    "\n",
    "# Write the DataFrame to a SQL table\n",
    "table_name = 'cryptocompare_xrp'\n",
    "df.to_sql(table_name, engine, if_exists='replace', index=False)\n",
    "\n",
    "# Close the connection\n",
    "engine.dispose()"
   ]
  },
  {
   "cell_type": "markdown",
   "id": "b261214e",
   "metadata": {},
   "source": [
    "## Yahoofinance.com scrapper\n",
    "- Step 1: Crawl and save CSV backup\n",
    "- Step 2: Store data in mySQL"
   ]
  },
  {
   "cell_type": "code",
   "execution_count": null,
   "id": "c888d3e6",
   "metadata": {},
   "outputs": [],
   "source": []
  },
  {
   "cell_type": "code",
   "execution_count": null,
   "id": "e457e0fc",
   "metadata": {},
   "outputs": [],
   "source": [
    "# Step 2\n",
    "# Add an ID column to the DataFrame\n",
    "df['id'] = df.index + 1\n",
    "\n",
    "# Create the connection to the MySQL database using sqlalchemy\n",
    "user = 'root'\n",
    "\n",
    "# Prompt the user for a password\n",
    "password = getpass(\"Enter your MySQL password: \")\n",
    "host = 'localhost'\n",
    "port = 3306\n",
    "database = 'MA5851_A3'\n",
    "\n",
    "engine = create_engine(f\"mysql+pymysql://{user}:{password}@{host}:{port}/{database}\")\n",
    "\n",
    "# Write the DataFrame to a SQL table\n",
    "table_name = 'cryptocompare_xrp'\n",
    "df.to_sql(table_name, engine, if_exists='replace', index=False)\n",
    "\n",
    "# Close the connection\n",
    "engine.dispose()"
   ]
  }
 ],
 "metadata": {
  "kernelspec": {
   "display_name": "Python 3 (ipykernel)",
   "language": "python",
   "name": "python3"
  },
  "language_info": {
   "codemirror_mode": {
    "name": "ipython",
    "version": 3
   },
   "file_extension": ".py",
   "mimetype": "text/x-python",
   "name": "python",
   "nbconvert_exporter": "python",
   "pygments_lexer": "ipython3",
   "version": "3.9.7"
  }
 },
 "nbformat": 4,
 "nbformat_minor": 5
}
